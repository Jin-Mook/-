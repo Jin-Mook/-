{
 "cells": [
  {
   "cell_type": "code",
   "execution_count": 1,
   "metadata": {},
   "outputs": [],
   "source": [
    "import pandas as pd\n",
    "df = pd.read_excel('../elice_library.xlsx', header=0)"
   ]
  },
  {
   "cell_type": "code",
   "execution_count": 2,
   "metadata": {},
   "outputs": [
    {
     "data": {
      "text/html": [
       "<div>\n",
       "<style scoped>\n",
       "    .dataframe tbody tr th:only-of-type {\n",
       "        vertical-align: middle;\n",
       "    }\n",
       "\n",
       "    .dataframe tbody tr th {\n",
       "        vertical-align: top;\n",
       "    }\n",
       "\n",
       "    .dataframe thead th {\n",
       "        text-align: right;\n",
       "    }\n",
       "</style>\n",
       "<table border=\"1\" class=\"dataframe\">\n",
       "  <thead>\n",
       "    <tr style=\"text-align: right;\">\n",
       "      <th></th>\n",
       "      <th>book_name</th>\n",
       "      <th>publisher</th>\n",
       "      <th>author</th>\n",
       "      <th>publication_date</th>\n",
       "      <th>pages</th>\n",
       "      <th>isbn</th>\n",
       "      <th>description</th>\n",
       "      <th>link</th>\n",
       "      <th>book_img</th>\n",
       "    </tr>\n",
       "  </thead>\n",
       "  <tbody>\n",
       "    <tr>\n",
       "      <th>0</th>\n",
       "      <td>주니어를 위한 최선의 코딩 학습 똑똑한 파이썬</td>\n",
       "      <td>코딩스쿨(인포앤북)</td>\n",
       "      <td>황재호/황예린</td>\n",
       "      <td>2019-07-01</td>\n",
       "      <td>240</td>\n",
       "      <td>9791196440916</td>\n",
       "      <td>주니어의 코딩 학습을 위한 최상의 파이썬 학습서\\n초등학교에서 스크래치, 엔트리 등...</td>\n",
       "      <td>http://codingschool.info/book/index.php?book=s...</td>\n",
       "      <td>./static/images/1.png</td>\n",
       "    </tr>\n",
       "    <tr>\n",
       "      <th>1</th>\n",
       "      <td>Do it! C언어 입문</td>\n",
       "      <td>이지스퍼블리싱</td>\n",
       "      <td>김성엽</td>\n",
       "      <td>2017-01-10</td>\n",
       "      <td>576</td>\n",
       "      <td>9791187370703</td>\n",
       "      <td>‘왜’ 쓰는지 모르면 의미 없다! 두 번 삽질하지 않게 도와주는 입문서!\\n\\n실무...</td>\n",
       "      <td>http://www.easyspub.co.kr/20_Menu/BookView/122...</td>\n",
       "      <td>./static/images/2.png</td>\n",
       "    </tr>\n",
       "    <tr>\n",
       "      <th>2</th>\n",
       "      <td>Do it! 쉽게 배우는 R 데이터 분석</td>\n",
       "      <td>이지스퍼블리싱</td>\n",
       "      <td>김영우</td>\n",
       "      <td>2017-07-20</td>\n",
       "      <td>376</td>\n",
       "      <td>9791187370949</td>\n",
       "      <td>통계, 프로그래밍을 1도 몰라도 데이터를 혼자서 다룰 수 있다!\\n\\n데이터 분석 ...</td>\n",
       "      <td>http://www.easyspub.co.kr/20_Menu/BookView/138...</td>\n",
       "      <td>./static/images/3.png</td>\n",
       "    </tr>\n",
       "  </tbody>\n",
       "</table>\n",
       "</div>"
      ],
      "text/plain": [
       "                   book_name   publisher   author publication_date  pages  \\\n",
       "0  주니어를 위한 최선의 코딩 학습 똑똑한 파이썬  코딩스쿨(인포앤북)  황재호/황예린       2019-07-01    240   \n",
       "1              Do it! C언어 입문     이지스퍼블리싱      김성엽       2017-01-10    576   \n",
       "2     Do it! 쉽게 배우는 R 데이터 분석     이지스퍼블리싱      김영우       2017-07-20    376   \n",
       "\n",
       "            isbn                                        description  \\\n",
       "0  9791196440916  주니어의 코딩 학습을 위한 최상의 파이썬 학습서\\n초등학교에서 스크래치, 엔트리 등...   \n",
       "1  9791187370703  ‘왜’ 쓰는지 모르면 의미 없다! 두 번 삽질하지 않게 도와주는 입문서!\\n\\n실무...   \n",
       "2  9791187370949  통계, 프로그래밍을 1도 몰라도 데이터를 혼자서 다룰 수 있다!\\n\\n데이터 분석 ...   \n",
       "\n",
       "                                                link               book_img  \n",
       "0  http://codingschool.info/book/index.php?book=s...  ./static/images/1.png  \n",
       "1  http://www.easyspub.co.kr/20_Menu/BookView/122...  ./static/images/2.png  \n",
       "2  http://www.easyspub.co.kr/20_Menu/BookView/138...  ./static/images/3.png  "
      ]
     },
     "execution_count": 2,
     "metadata": {},
     "output_type": "execute_result"
    }
   ],
   "source": [
    "df.head(3)"
   ]
  },
  {
   "cell_type": "code",
   "execution_count": 3,
   "metadata": {},
   "outputs": [],
   "source": [
    "import pymysql\n",
    "connection = pymysql.connect(host='localhost', user='root', password='root', db='elice_library')"
   ]
  },
  {
   "cell_type": "code",
   "execution_count": 4,
   "metadata": {},
   "outputs": [],
   "source": [
    "cursor = connection.cursor()"
   ]
  },
  {
   "cell_type": "code",
   "execution_count": 5,
   "metadata": {},
   "outputs": [],
   "source": [
    "sql = \"insert into `Book_list` (`book_name`, `publisher`, `author`, `publication_date`, `pages`, `isbn`, `description`, `link`, `book_img`) values (%s, %s, %s, %s, %s, %s, %s, %s, %s)\""
   ]
  },
  {
   "cell_type": "code",
   "execution_count": 6,
   "metadata": {},
   "outputs": [],
   "source": [
    "for i in range(len(df)):\n",
    "  cursor.execute(sql, tuple(df.values[i]))\n",
    "connection.commit()\n",
    "connection.close()"
   ]
  },
  {
   "cell_type": "code",
   "execution_count": null,
   "metadata": {},
   "outputs": [],
   "source": []
  }
 ],
 "metadata": {
  "interpreter": {
   "hash": "f056dfd9baf618fa31c9971eeb59e594fb92a55f2e68eef3f96eb4bc630e3c06"
  },
  "kernelspec": {
   "display_name": "Python 3.8.8 64-bit ('.myvenv': venv)",
   "language": "python",
   "name": "python3"
  },
  "language_info": {
   "codemirror_mode": {
    "name": "ipython",
    "version": 3
   },
   "file_extension": ".py",
   "mimetype": "text/x-python",
   "name": "python",
   "nbconvert_exporter": "python",
   "pygments_lexer": "ipython3",
   "version": "3.8.8"
  },
  "orig_nbformat": 4
 },
 "nbformat": 4,
 "nbformat_minor": 2
}
